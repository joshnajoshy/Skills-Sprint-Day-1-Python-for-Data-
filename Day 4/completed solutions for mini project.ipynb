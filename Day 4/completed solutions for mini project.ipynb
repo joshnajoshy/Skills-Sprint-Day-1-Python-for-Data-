{
 "cells": [
  {
   "cell_type": "markdown",
   "id": "cf08f73a",
   "metadata": {},
   "source": [
    "# 💰 NumPy Data Analysis with Gold Prices — Solutions"
   ]
  },
  {
   "cell_type": "code",
   "execution_count": null,
   "id": "5db2eec1-8972-43d5-bfe4-56259bf89813",
   "metadata": {},
   "outputs": [],
   "source": [
    "!pip install pandas\n",
    "!pip install numpy"
   ]
  },
  {
   "cell_type": "code",
   "execution_count": 11,
   "id": "d2341ce0",
   "metadata": {},
   "outputs": [],
   "source": [
    "import pandas as pd\n",
    "import numpy as np\n",
    "\n",
    "# Load dataset\n",
    "df = pd.read_csv(\"../gold_price_data.csv\")\n",
    "\n",
    "# Extract the 'close' column as a NumPy array\n",
    "close_prices = df[\"close\"].to_numpy()"
   ]
  },
  {
   "cell_type": "markdown",
   "id": "17b7e0e2",
   "metadata": {},
   "source": [
    "## 1️⃣ Basic Statistics — Solutions"
   ]
  },
  {
   "cell_type": "code",
   "execution_count": null,
   "id": "e8091525",
   "metadata": {},
   "outputs": [],
   "source": [
    "print(\"Mean closing price:\", np.mean(close_prices))\n",
    "print(\"Median closing price:\", np.median(close_prices))\n",
    "print(\"Standard deviation:\", np.std(close_prices))\n",
    "print(\"Maximum closing price:\", np.max(close_prices))\n",
    "print(\"Minimum closing price:\", np.min(close_prices))\n",
    "\n",
    "# ✅ Exercise Solution: Range of prices\n",
    "price_range = np.max(close_prices) - np.min(close_prices)\n",
    "print(\"Range of closing prices:\", price_range)\n",
    "\n",
    "# ✅ Exercise Solution: Days with max price\n",
    "max_price = np.max(close_prices)\n",
    "days_with_max = np.where(close_prices == max_price)[0]\n",
    "print(\"Days with maximum closing price:\", days_with_max)"
   ]
  },
  {
   "cell_type": "markdown",
   "id": "db152a44",
   "metadata": {},
   "source": [
    "## 2️⃣ Slicing & Reshaping — Solutions"
   ]
  },
  {
   "cell_type": "code",
   "execution_count": null,
   "id": "a1c1dcfb",
   "metadata": {},
   "outputs": [],
   "source": [
    "# Reshape into chunks of 30 days\n",
    "reshaped = close_prices[:len(close_prices)//30*30].reshape(-1, 30)\n",
    "\n",
    "# ✅ Exercise Solution: Average per month\n",
    "monthly_averages = np.mean(reshaped, axis=1)\n",
    "print(\"Monthly averages:\", monthly_averages)\n",
    "\n",
    "# ✅ Compare first & last month averages\n",
    "print(\"First month avg:\", monthly_averages[0])\n",
    "print(\"Last month avg:\", monthly_averages[-1])"
   ]
  },
  {
   "cell_type": "markdown",
   "id": "8ca67649",
   "metadata": {},
   "source": [
    "## 3️⃣ Price Differences — Solutions"
   ]
  },
  {
   "cell_type": "code",
   "execution_count": null,
   "id": "2f418d48",
   "metadata": {},
   "outputs": [],
   "source": [
    "daily_diff = np.diff(close_prices)\n",
    "\n",
    "# ✅ Largest increase & decrease\n",
    "max_increase = np.max(daily_diff)\n",
    "max_decrease = np.min(daily_diff)\n",
    "print(\"Largest single-day increase:\", max_increase)\n",
    "print(\"Largest single-day decrease:\", max_decrease)\n",
    "\n",
    "# ✅ Day of largest increase\n",
    "day_increase = np.argmax(daily_diff)\n",
    "print(\"Day index of largest increase:\", day_increase, \"price:\", close_prices[day_increase+1])\n",
    "\n",
    "# ✅ Day of largest decrease\n",
    "day_decrease = np.argmin(daily_diff)\n",
    "print(\"Day index of largest decrease:\", day_decrease, \"price:\", close_prices[day_decrease+1])"
   ]
  },
  {
   "cell_type": "markdown",
   "id": "16891ee9",
   "metadata": {},
   "source": [
    "## 4️⃣ Simple Trend Visualization — Solutions"
   ]
  },
  {
   "cell_type": "code",
   "execution_count": null,
   "id": "2882b67f",
   "metadata": {},
   "outputs": [],
   "source": [
    "avg_price = np.mean(close_prices)\n",
    "\n",
    "print(\"\\nGold Price Trend (first 30 days):\")\n",
    "for i, price in enumerate(close_prices[:30], start=1):\n",
    "    marker = \"*\" if price > avg_price else \"\"\n",
    "    print(f\"Day {i}: {'$' * int(price//10)} ({price}) {marker}\")\n",
    "\n",
    "# ✅ Try plotting last 30 days instead\n",
    "print(\"\\nGold Price Trend (last 30 days):\")\n",
    "for i, price in enumerate(close_prices[-30:], start=1):\n",
    "    marker = \"*\" if price > avg_price else \"\"\n",
    "    print(f\"Day {i}: {'$' * int(price//10)} ({price}) {marker}\")"
   ]
  },
  {
   "cell_type": "markdown",
   "id": "c7eebc51",
   "metadata": {},
   "source": [
    "## ✅ Wrap-Up\n",
    "- Range, monthly averages, and volatility now computed.\n",
    "- NumPy slicing/reshaping made the dataset manageable.\n",
    "- Learners can now see how **daily fluctuations** and **monthly averages** highlight trends in financial data."
   ]
  }
 ],
 "metadata": {
  "kernelspec": {
   "display_name": "Python 3 (ipykernel)",
   "language": "python",
   "name": "python3"
  },
  "language_info": {
   "codemirror_mode": {
    "name": "ipython",
    "version": 3
   },
   "file_extension": ".py",
   "mimetype": "text/x-python",
   "name": "python",
   "nbconvert_exporter": "python",
   "pygments_lexer": "ipython3",
   "version": "3.13.5"
  }
 },
 "nbformat": 4,
 "nbformat_minor": 5
}
