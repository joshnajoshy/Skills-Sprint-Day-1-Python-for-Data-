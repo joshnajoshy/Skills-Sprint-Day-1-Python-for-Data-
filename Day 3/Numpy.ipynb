{
 "cells": [
  {
   "cell_type": "code",
   "execution_count": 1,
   "id": "0114c746-a95a-4756-a781-5feef50ac749",
   "metadata": {},
   "outputs": [],
   "source": [
    "import numpy as np"
   ]
  },
  {
   "cell_type": "code",
   "execution_count": 4,
   "id": "7b03b867-7d57-447a-b5d7-fe4eadf5ed16",
   "metadata": {},
   "outputs": [
    {
     "name": "stdout",
     "output_type": "stream",
     "text": [
      "[1, 2, 3, 4, 5]\n"
     ]
    }
   ],
   "source": [
    "numbers = [1,2,3,4,5]\n",
    "print(numbers)"
   ]
  },
  {
   "cell_type": "code",
   "execution_count": 6,
   "id": "d1e24ef8-2357-47eb-a1b9-c14dbdb14287",
   "metadata": {},
   "outputs": [],
   "source": [
    "# How to create an array in numpy"
   ]
  },
  {
   "cell_type": "code",
   "execution_count": 7,
   "id": "25fd6702-dea4-4084-9e93-e49b81d607e4",
   "metadata": {},
   "outputs": [],
   "source": [
    "array = np.array(numbers)"
   ]
  },
  {
   "cell_type": "code",
   "execution_count": 8,
   "id": "1c35a68a-031e-4df4-b08d-ed75a1bd0c02",
   "metadata": {},
   "outputs": [
    {
     "name": "stdout",
     "output_type": "stream",
     "text": [
      "[1 2 3 4 5]\n"
     ]
    }
   ],
   "source": [
    "print(array)"
   ]
  },
  {
   "cell_type": "code",
   "execution_count": 9,
   "id": "ebd3aacb-7505-4f94-88bb-eab54123f7cd",
   "metadata": {},
   "outputs": [],
   "source": [
    "# multiply every element by 2 "
   ]
  },
  {
   "cell_type": "code",
   "execution_count": 11,
   "id": "117b4243-b4cf-4b3d-ba98-3241063df287",
   "metadata": {},
   "outputs": [
    {
     "name": "stdout",
     "output_type": "stream",
     "text": [
      "[ 2  4  6  8 10]\n"
     ]
    }
   ],
   "source": [
    "double = array * 2\n",
    "print(double)"
   ]
  },
  {
   "cell_type": "code",
   "execution_count": 13,
   "id": "642e443c-5195-4eb0-bc68-0ff8d0f0e27d",
   "metadata": {},
   "outputs": [
    {
     "name": "stdout",
     "output_type": "stream",
     "text": [
      "[[0. 0. 0.]\n",
      " [0. 0. 0.]]\n"
     ]
    }
   ],
   "source": [
    "zeros = np.zeros((2,3))\n",
    "print(zeros)"
   ]
  },
  {
   "cell_type": "code",
   "execution_count": 14,
   "id": "b0ffed4d-b70b-49dc-8e98-14a764145212",
   "metadata": {},
   "outputs": [
    {
     "name": "stdout",
     "output_type": "stream",
     "text": [
      "[1. 1. 1.]\n"
     ]
    }
   ],
   "source": [
    "ones = np.ones((3))\n",
    "print(ones)"
   ]
  },
  {
   "cell_type": "code",
   "execution_count": 16,
   "id": "00d1e7a9-bb01-45e7-8e62-157eef71f46c",
   "metadata": {},
   "outputs": [
    {
     "name": "stdout",
     "output_type": "stream",
     "text": [
      "[0 2 4 6 8]\n"
     ]
    }
   ],
   "source": [
    "range_array = np.arange(0,10,2)\n",
    "print(range_array)"
   ]
  },
  {
   "cell_type": "code",
   "execution_count": 18,
   "id": "5fe6bbdb-442c-42f6-9844-093ad460c750",
   "metadata": {},
   "outputs": [
    {
     "name": "stdout",
     "output_type": "stream",
     "text": [
      "[0 1 2 3 4 5 6 7 8 9]\n"
     ]
    }
   ],
   "source": [
    "# challenge 1 create an array from 0-9\n",
    "array_num = np.arange(0,10)\n",
    "print(array_num)"
   ]
  },
  {
   "cell_type": "code",
   "execution_count": 19,
   "id": "55578b98-31ec-4675-a5d2-b2587579c58f",
   "metadata": {},
   "outputs": [
    {
     "name": "stdout",
     "output_type": "stream",
     "text": [
      "[[1. 1. 1. 1.]\n",
      " [1. 1. 1. 1.]\n",
      " [1. 1. 1. 1.]\n",
      " [1. 1. 1. 1.]]\n"
     ]
    }
   ],
   "source": [
    "# challenge 2 create a pyramid of ones\n",
    "matrix_ones = np.ones((4,4))\n",
    "print(matrix_ones)"
   ]
  },
  {
   "cell_type": "code",
   "execution_count": 22,
   "id": "b490b939-6691-4eed-80ef-2968798dfbce",
   "metadata": {},
   "outputs": [
    {
     "name": "stdout",
     "output_type": "stream",
     "text": [
      "[0.   0.25 0.5  0.75 1.  ]\n"
     ]
    }
   ],
   "source": [
    "# challenge 3 evenly space numbers between 0 and 1 using linspace\n",
    "even_space = np.linspace(0, 1, 5)\n",
    "print(even_space)"
   ]
  },
  {
   "cell_type": "code",
   "execution_count": 25,
   "id": "bb30f643-c54d-44d3-8a79-5f3c5f0987cf",
   "metadata": {},
   "outputs": [
    {
     "name": "stdout",
     "output_type": "stream",
     "text": [
      "The whole matrix [[1 2 3]\n",
      " [4 5 6]\n",
      " [7 8 9]]\n"
     ]
    }
   ],
   "source": [
    "mat = np.array([\n",
    "    [1,2,3],\n",
    "    [4,5,6],\n",
    "    [7,8,9]\n",
    "])\n",
    "print(\"The whole matrix\", mat)"
   ]
  },
  {
   "cell_type": "code",
   "execution_count": 27,
   "id": "ada67f49-5e94-4c1e-826b-e7dc1f42f402",
   "metadata": {},
   "outputs": [
    {
     "name": "stdout",
     "output_type": "stream",
     "text": [
      "The element at row1, column 2 : 2\n"
     ]
    }
   ],
   "source": [
    "print(\"The element at row1, column 2 :\", mat[0][1]) # can also write it as mat[0,1]"
   ]
  },
  {
   "cell_type": "code",
   "execution_count": 28,
   "id": "fee54909-474b-4cf7-872e-03cb8eabcdf9",
   "metadata": {},
   "outputs": [
    {
     "name": "stdout",
     "output_type": "stream",
     "text": [
      "pick the second number from every row:  [2 5 8]\n"
     ]
    }
   ],
   "source": [
    "print(\"pick the second number from every row: \", mat[:,1])"
   ]
  },
  {
   "cell_type": "code",
   "execution_count": 29,
   "id": "b44f9bf2-9766-42d2-b19c-b99b478157ed",
   "metadata": {},
   "outputs": [
    {
     "name": "stdout",
     "output_type": "stream",
     "text": [
      "pick every row and choose the third number [3 6 9]\n"
     ]
    }
   ],
   "source": [
    "print(\"pick every row and choose the third number\", mat[:,2])"
   ]
  },
  {
   "cell_type": "code",
   "execution_count": 31,
   "id": "bdad020b-71e0-46ed-96fb-92ee379c6601",
   "metadata": {},
   "outputs": [],
   "source": [
    "# create an array of numbers 1-10"
   ]
  },
  {
   "cell_type": "code",
   "execution_count": 32,
   "id": "10db6929-2120-476d-9b4a-ed03428f3493",
   "metadata": {},
   "outputs": [
    {
     "name": "stdout",
     "output_type": "stream",
     "text": [
      "[ 1  2  3  4  5  6  7  8  9 10]\n"
     ]
    }
   ],
   "source": [
    "array_num_2 = np.arange(1,11)\n",
    "print(array_num_2)"
   ]
  },
  {
   "cell_type": "code",
   "execution_count": 36,
   "id": "df998ae0-19be-4b6f-b819-42ac19097cf4",
   "metadata": {},
   "outputs": [
    {
     "name": "stdout",
     "output_type": "stream",
     "text": [
      "[1 2 3 4 5]\n"
     ]
    }
   ],
   "source": [
    "sliced_5 = array_num_2[:5]\n",
    "print(sliced_5)"
   ]
  },
  {
   "cell_type": "code",
   "execution_count": 40,
   "id": "e4d3d422-7842-4ee7-95a1-b052af702461",
   "metadata": {},
   "outputs": [
    {
     "name": "stdout",
     "output_type": "stream",
     "text": [
      "[[1 2 3]\n",
      " [4 5 6]]\n"
     ]
    }
   ],
   "source": [
    "extracted_matrix = mat[:2,:] # extract the first 2 rows \n",
    "print(extracted_matrix)"
   ]
  },
  {
   "cell_type": "code",
   "execution_count": 45,
   "id": "f01f3e4b-bb28-4c49-9145-f13573a8414a",
   "metadata": {},
   "outputs": [
    {
     "name": "stdout",
     "output_type": "stream",
     "text": [
      "[[5 6]\n",
      " [8 9]]\n"
     ]
    }
   ],
   "source": [
    "bottom_right_matrix = mat[1:,1:] # slicing from bottom 2nd number from right\n",
    "print(bottom_right_matrix)"
   ]
  },
  {
   "cell_type": "code",
   "execution_count": 46,
   "id": "2a686b40-9cef-493d-b411-3bdc99f1f1bb",
   "metadata": {},
   "outputs": [
    {
     "name": "stdout",
     "output_type": "stream",
     "text": [
      "[ 0  1  2  3  4  5  6  7  8  9 10 11]\n"
     ]
    }
   ],
   "source": [
    "array_6 = np.arange(12)\n",
    "print(array_6)"
   ]
  },
  {
   "cell_type": "code",
   "execution_count": 47,
   "id": "9d25bb18-bb36-47b8-91d7-76c63dc02240",
   "metadata": {},
   "outputs": [
    {
     "name": "stdout",
     "output_type": "stream",
     "text": [
      "shape (12,)\n"
     ]
    }
   ],
   "source": [
    "print(\"shape\", array_6.shape)"
   ]
  },
  {
   "cell_type": "code",
   "execution_count": 49,
   "id": "4d4a2bad-28f1-4e29-bb72-71fdb7f40736",
   "metadata": {},
   "outputs": [
    {
     "name": "stdout",
     "output_type": "stream",
     "text": [
      "dimention 1\n"
     ]
    }
   ],
   "source": [
    "print(\"dimention\", array_6.ndim)"
   ]
  },
  {
   "cell_type": "code",
   "execution_count": 50,
   "id": "2f2dfd1e-f104-4888-ae40-470262d59d00",
   "metadata": {},
   "outputs": [
    {
     "name": "stdout",
     "output_type": "stream",
     "text": [
      "size 12\n"
     ]
    }
   ],
   "source": [
    "print(\"size\", array_6.size)"
   ]
  },
  {
   "cell_type": "code",
   "execution_count": 52,
   "id": "2358932f-9bbb-431e-9d5d-5cba23829126",
   "metadata": {},
   "outputs": [
    {
     "name": "stdout",
     "output_type": "stream",
     "text": [
      "[ 1  2  3  4  5  6  7  8  9 10 11 12]\n"
     ]
    }
   ],
   "source": [
    "array_7 = np.arange(1,13)\n",
    "print(array_7)"
   ]
  },
  {
   "cell_type": "code",
   "execution_count": 53,
   "id": "7f6c9287-39cd-4900-943b-a4fe27430127",
   "metadata": {},
   "outputs": [],
   "source": [
    "# reshape this array "
   ]
  },
  {
   "cell_type": "code",
   "execution_count": 54,
   "id": "9ddfe3da-506c-4e7f-b908-5043a4e65e65",
   "metadata": {},
   "outputs": [
    {
     "name": "stdout",
     "output_type": "stream",
     "text": [
      "[[ 1  2  3  4]\n",
      " [ 5  6  7  8]\n",
      " [ 9 10 11 12]]\n"
     ]
    }
   ],
   "source": [
    "# reshape(3,4) saying 3 rows with 4 items\n",
    "reshaped = array_7.reshape(3,4)\n",
    "print(reshaped)"
   ]
  },
  {
   "cell_type": "code",
   "execution_count": 55,
   "id": "7b9a6066-e0c4-4356-972c-42f8255aaa17",
   "metadata": {},
   "outputs": [
    {
     "name": "stdout",
     "output_type": "stream",
     "text": [
      "[ 1  2  3  4  5  6  7  8  9 10 11 12]\n"
     ]
    }
   ],
   "source": [
    "# can also flatten a multi dimentional array \n",
    "flat = reshaped.ravel()\n",
    "print(flat)"
   ]
  },
  {
   "cell_type": "code",
   "execution_count": 57,
   "id": "e4313560-e741-4bb9-b64b-844877d4f05b",
   "metadata": {},
   "outputs": [
    {
     "name": "stdout",
     "output_type": "stream",
     "text": [
      "[[ 1  2  3]\n",
      " [ 4  5  6]\n",
      " [ 7  8  9]\n",
      " [10 11 12]]\n"
     ]
    }
   ],
   "source": [
    "reshaped_2 = array_7.reshape(4,3)\n",
    "print(reshaped_2)"
   ]
  },
  {
   "cell_type": "code",
   "execution_count": 87,
   "id": "2b318159-d70a-4c5b-8a03-281c633c27c0",
   "metadata": {},
   "outputs": [
    {
     "name": "stdout",
     "output_type": "stream",
     "text": [
      "[[ 2  3]\n",
      " [ 5  6]\n",
      " [ 8  9]\n",
      " [11 12]]\n"
     ]
    }
   ],
   "source": [
    "extract_middle_2 = reshaped_2[:, 1:3] # all rows from column 1 to column to column 3\n",
    "print(extract_middle_2)"
   ]
  },
  {
   "cell_type": "code",
   "execution_count": 89,
   "id": "9d70fa04-51f5-438d-bb87-ae8a3dce270b",
   "metadata": {},
   "outputs": [
    {
     "name": "stdout",
     "output_type": "stream",
     "text": [
      "[ 2  3  5  6  8  9 11 12]\n"
     ]
    }
   ],
   "source": [
    "flat_2 = extract_middle_2.flatten() #flatten column extracted \n",
    "print(flat_2)"
   ]
  },
  {
   "cell_type": "code",
   "execution_count": 90,
   "id": "854ada81-055f-4074-91fd-30d0016566aa",
   "metadata": {},
   "outputs": [
    {
     "name": "stdout",
     "output_type": "stream",
     "text": [
      "[1 2 3 4]\n",
      "[10 20 30 40]\n"
     ]
    }
   ],
   "source": [
    "a = np.array([1,2,3,4])\n",
    "b = np.array([10,20,30,40])\n",
    "print(a)\n",
    "print(b)\n"
   ]
  },
  {
   "cell_type": "code",
   "execution_count": 91,
   "id": "34688778-c06b-4c62-866f-6069e901fe0d",
   "metadata": {},
   "outputs": [
    {
     "name": "stdout",
     "output_type": "stream",
     "text": [
      "a+b [11 22 33 44]\n"
     ]
    }
   ],
   "source": [
    "print(\"a+b\", a + b)"
   ]
  },
  {
   "cell_type": "code",
   "execution_count": 92,
   "id": "96656816-648e-42d0-b793-5fc9ae2296f1",
   "metadata": {},
   "outputs": [
    {
     "name": "stdout",
     "output_type": "stream",
     "text": [
      "a-b [ -9 -18 -27 -36]\n"
     ]
    }
   ],
   "source": [
    "print(\"a-b\", a - b)"
   ]
  },
  {
   "cell_type": "code",
   "execution_count": 93,
   "id": "af5badbd-9874-4450-a334-24bb41769ed1",
   "metadata": {},
   "outputs": [
    {
     "name": "stdout",
     "output_type": "stream",
     "text": [
      "a / b [0.1 0.1 0.1 0.1]\n"
     ]
    }
   ],
   "source": [
    "print(\"a / b\", a / b)"
   ]
  },
  {
   "cell_type": "code",
   "execution_count": 96,
   "id": "a913cb74-7516-4671-aafa-4293144d030d",
   "metadata": {},
   "outputs": [
    {
     "name": "stdout",
     "output_type": "stream",
     "text": [
      "square root [1.         1.41421356 1.73205081 2.        ]\n",
      "expo of b [2.20264658e+04 4.85165195e+08 1.06864746e+13 2.35385267e+17]\n"
     ]
    }
   ],
   "source": [
    "# square root\n",
    "print(\"square root\", np.sqrt(a))\n",
    "# exponential \n",
    "print(\"expo of b\", np.exp(b))"
   ]
  },
  {
   "cell_type": "code",
   "execution_count": 99,
   "id": "3fc85bec-2fbc-455f-9265-be0f4cbf2c86",
   "metadata": {},
   "outputs": [
    {
     "name": "stdout",
     "output_type": "stream",
     "text": [
      "[ 5 10 15]\n",
      "[2 4 6]\n"
     ]
    }
   ],
   "source": [
    "array_8 = np.arange(5,20,5)\n",
    "array_9 = np.arange(2,7,2)\n",
    "print(array_8)\n",
    "print(array_9)"
   ]
  },
  {
   "cell_type": "code",
   "execution_count": 100,
   "id": "662a4c40-4642-4e25-85b4-53de137ccf2f",
   "metadata": {},
   "outputs": [
    {
     "name": "stdout",
     "output_type": "stream",
     "text": [
      "[ 7 14 21]\n"
     ]
    }
   ],
   "source": [
    "print(array_8 + array_9)"
   ]
  },
  {
   "cell_type": "code",
   "execution_count": 101,
   "id": "8804e90c-d440-4b43-be9b-36ab801cfee2",
   "metadata": {},
   "outputs": [
    {
     "name": "stdout",
     "output_type": "stream",
     "text": [
      "[3 6 9]\n"
     ]
    }
   ],
   "source": [
    "print(array_8 - array_9)"
   ]
  },
  {
   "cell_type": "code",
   "execution_count": 102,
   "id": "5032640b-d190-49c3-a95f-c9c14bae3792",
   "metadata": {},
   "outputs": [
    {
     "name": "stdout",
     "output_type": "stream",
     "text": [
      "[10 40 90]\n"
     ]
    }
   ],
   "source": [
    "print(array_8 * array_9)"
   ]
  },
  {
   "cell_type": "code",
   "execution_count": 103,
   "id": "f053b8d8-3a4f-4eb4-907b-fc33294ba179",
   "metadata": {},
   "outputs": [
    {
     "name": "stdout",
     "output_type": "stream",
     "text": [
      "[2.5 2.5 2.5]\n"
     ]
    }
   ],
   "source": [
    "print(array_8 / array_9)"
   ]
  },
  {
   "cell_type": "code",
   "execution_count": 105,
   "id": "aeca5105-584e-4e78-ac59-95e5b65ec0f3",
   "metadata": {},
   "outputs": [
    {
     "name": "stdout",
     "output_type": "stream",
     "text": [
      "[ 125 1000 3375]\n",
      "[ 125 1000 3375]\n"
     ]
    }
   ],
   "source": [
    "cubed = np.power(array_8,3)\n",
    "# or you can do \n",
    "cube = array_8 ** 3\n",
    "print(cubed)\n",
    "print(cube)"
   ]
  },
  {
   "cell_type": "code",
   "execution_count": 106,
   "id": "1f83bd73-28a2-4860-8483-bdf90822017f",
   "metadata": {},
   "outputs": [
    {
     "name": "stdout",
     "output_type": "stream",
     "text": [
      "array + 10 to each item [11 12 13 14 15]\n"
     ]
    }
   ],
   "source": [
    "broad = np.array([1,2,3,4,5])\n",
    "# add 10 to each element\n",
    "print(\"array + 10 to each item\", broad + 10) # when you say + 10 its streaching 10 across each item and creating [10,10,10,10] and adding to each element in array \n"
   ]
  },
  {
   "cell_type": "code",
   "execution_count": 107,
   "id": "0c43a4c6-bb95-4cc8-958b-b99f23122cb0",
   "metadata": {},
   "outputs": [
    {
     "name": "stdout",
     "output_type": "stream",
     "text": [
      "array * 5 [ 5 10 15 20 25]\n"
     ]
    }
   ],
   "source": [
    "# multiply\n",
    "print(\"array * 5\", broad * 5)"
   ]
  },
  {
   "cell_type": "code",
   "execution_count": 108,
   "id": "031c2a78-019e-41b7-a59e-fcd6f7fe4efc",
   "metadata": {},
   "outputs": [
    {
     "name": "stdout",
     "output_type": "stream",
     "text": [
      "our full 2d array [[1 2 3]\n",
      " [4 5 6]]\n"
     ]
    }
   ],
   "source": [
    "arr2d = np.array([[1,2,3],[4,5,6]])\n",
    "print(\"our full 2d array\", arr2d)"
   ]
  },
  {
   "cell_type": "code",
   "execution_count": 109,
   "id": "3b58947e-3efd-4257-8485-cb368dceb32f",
   "metadata": {},
   "outputs": [
    {
     "name": "stdout",
     "output_type": "stream",
     "text": [
      "add the array [10,20,30] [[11 22 33]\n",
      " [14 25 36]]\n"
     ]
    }
   ],
   "source": [
    "# want to add an array 10,20,30 to my existing array\n",
    "print(\"add the array [10,20,30]\", np.array([10,20,30]) + arr2d)"
   ]
  },
  {
   "cell_type": "code",
   "execution_count": 110,
   "id": "deeb2389-1cbd-4e1a-aec8-4f620db80207",
   "metadata": {},
   "outputs": [
    {
     "name": "stdout",
     "output_type": "stream",
     "text": [
      "[2 4 6 8]\n"
     ]
    }
   ],
   "source": [
    "array_9 = np.array([2,4,6,8])\n",
    "print(array_9)"
   ]
  },
  {
   "cell_type": "code",
   "execution_count": 111,
   "id": "2d60c41d-6b5b-4555-8a84-dec3747fc801",
   "metadata": {},
   "outputs": [
    {
     "name": "stdout",
     "output_type": "stream",
     "text": [
      "[1. 2. 3. 4.]\n"
     ]
    }
   ],
   "source": [
    "print(array_9 * 0.5)"
   ]
  },
  {
   "cell_type": "code",
   "execution_count": 120,
   "id": "870be4e2-2657-4323-9371-baa93af2693e",
   "metadata": {},
   "outputs": [
    {
     "name": "stdout",
     "output_type": "stream",
     "text": [
      "[[1. 1. 1.]\n",
      " [1. 1. 1.]\n",
      " [1. 1. 1.]]\n"
     ]
    }
   ],
   "source": [
    "matrix_ones_2 = np.ones((3,3))\n",
    "print(matrix_ones_2)"
   ]
  },
  {
   "cell_type": "code",
   "execution_count": 126,
   "id": "229b5c00-1e93-4d26-9361-3f5750de3e8a",
   "metadata": {},
   "outputs": [
    {
     "name": "stdout",
     "output_type": "stream",
     "text": [
      "[[2. 3. 4.]\n",
      " [2. 3. 4.]]\n"
     ]
    }
   ],
   "source": [
    "print(matrix_ones_2 + np.array([1,2,3]))"
   ]
  },
  {
   "cell_type": "code",
   "execution_count": 122,
   "id": "6b6f2271-16da-4d22-9024-d592e67a2d60",
   "metadata": {},
   "outputs": [
    {
     "name": "stdout",
     "output_type": "stream",
     "text": [
      "[[1. 1. 1.]\n",
      " [1. 1. 1.]]\n"
     ]
    }
   ],
   "source": [
    "matrix_ones_2 = np.ones((2,3))\n",
    "print(matrix_ones_2)"
   ]
  },
  {
   "cell_type": "code",
   "execution_count": 124,
   "id": "618e4a19-92a6-47c4-82b2-c8ac2ec0072f",
   "metadata": {},
   "outputs": [
    {
     "name": "stdout",
     "output_type": "stream",
     "text": [
      "[[11. 11. 11.]\n",
      " [11. 11. 11.]]\n"
     ]
    }
   ],
   "source": [
    "print(matrix_ones_2 + 10)"
   ]
  },
  {
   "cell_type": "code",
   "execution_count": 127,
   "id": "62085717-d323-40df-b66d-895589179a31",
   "metadata": {},
   "outputs": [
    {
     "name": "stdout",
     "output_type": "stream",
     "text": [
      "[[ 2  4  6]\n",
      " [ 5  7  9]\n",
      " [ 8 10 12]]\n"
     ]
    }
   ],
   "source": [
    "# create matrix \n",
    "matrix_3x3 = np.array([[1,2,3],[4,5,6],[7,8,9]])\n",
    "print(matrix_3x3 + np.array([1,2,3]))"
   ]
  },
  {
   "cell_type": "code",
   "execution_count": 129,
   "id": "32d2bf65-f1ef-43ea-9f96-ba6a80cfe503",
   "metadata": {},
   "outputs": [
    {
     "name": "stdout",
     "output_type": "stream",
     "text": [
      "[[2. 3. 4. 5.]\n",
      " [2. 3. 4. 5.]\n",
      " [2. 3. 4. 5.]\n",
      " [2. 3. 4. 5.]]\n"
     ]
    }
   ],
   "source": [
    "#experimenting\n",
    "print(np.ones((4,4)) + np.array([1,2,3,4]))"
   ]
  },
  {
   "cell_type": "code",
   "execution_count": 131,
   "id": "107ea660-6557-4189-90d7-6115d27d9b96",
   "metadata": {},
   "outputs": [
    {
     "name": "stdout",
     "output_type": "stream",
     "text": [
      "Python list time:  0.1369156837463379\n"
     ]
    }
   ],
   "source": [
    "import time \n",
    "\n",
    "size = 1_000_000\n",
    "#python list \n",
    "list_1 = list(range(size)) # creating the list \n",
    "start = time.time() # starting on timer time were starting from\n",
    "#loop over the list and print the list out \n",
    "list_2 = [x * 2 for x in list_1] # multiply list by 2 \n",
    "print(\"Python list time: \" , time.time() - start) # gives the time on how long it took to creatre list \n"
   ]
  },
  {
   "cell_type": "code",
   "execution_count": 132,
   "id": "584252c4-74c3-4390-aac4-12cfca7aa0a1",
   "metadata": {},
   "outputs": [
    {
     "name": "stdout",
     "output_type": "stream",
     "text": [
      "numpy array time : 0.00440526008605957\n"
     ]
    }
   ],
   "source": [
    "numpy_1 = np.arange(size) # setting list size\n",
    "start_1 = time.time() # getting current time, starting timer\n",
    "numpy_2 = numpy_1 * 2 # times the array by 2 \n",
    "print(\"numpy array time :\", time.time() - start_1)\n",
    "\n",
    "# numpy is alot faster if you look at the time compared to python thats why its useful when handling large data "
   ]
  },
  {
   "cell_type": "code",
   "execution_count": 133,
   "id": "b8a6ecff-20f3-4e23-a297-ab45e75693cb",
   "metadata": {},
   "outputs": [],
   "source": [
    "# random method - stats functions "
   ]
  },
  {
   "cell_type": "code",
   "execution_count": 134,
   "id": "e619b21d-9c13-47fb-84fa-2d8f962f4cec",
   "metadata": {},
   "outputs": [
    {
     "name": "stdout",
     "output_type": "stream",
     "text": [
      "[6 6 5 5 6 6 1 6 5 1]\n"
     ]
    }
   ],
   "source": [
    "# Random \n",
    "## random numbers generated from random that will be and example of a dice role\n",
    "dice = np.random.randint(1,7, size=10) # low = 1 high = 7 and we want size of 10\n",
    "print(dice)"
   ]
  },
  {
   "cell_type": "code",
   "execution_count": 135,
   "id": "086732b9-8b03-4955-a60c-470ce42c00b9",
   "metadata": {},
   "outputs": [
    {
     "name": "stdout",
     "output_type": "stream",
     "text": [
      "[0.09894851 0.63080387 0.88525376 0.67172595 0.48678753]\n"
     ]
    }
   ],
   "source": [
    "## random floats \n",
    "rand_floats = np.random.rand(5)\n",
    "print(rand_floats)"
   ]
  },
  {
   "cell_type": "code",
   "execution_count": 136,
   "id": "526f9184-e25d-42c9-9e0f-0bc45c89a259",
   "metadata": {},
   "outputs": [
    {
     "name": "stdout",
     "output_type": "stream",
     "text": [
      "[-0.79697093  0.10815329 -0.17766932  0.28473174  0.32238873]\n"
     ]
    }
   ],
   "source": [
    "## random normal distribution \n",
    "rand_dist = np.random.randn(5)\n",
    "print(rand_dist)"
   ]
  },
  {
   "cell_type": "code",
   "execution_count": 137,
   "id": "f8ea7895-5143-46f1-8650-9155e5675711",
   "metadata": {},
   "outputs": [
    {
     "name": "stdout",
     "output_type": "stream",
     "text": [
      "[5 2 1 2 4 4 2 3 2 5 2 1 2 3 3 5 6 3 2 5]\n"
     ]
    }
   ],
   "source": [
    "dice_roll_20 = np.random.randint(1,7, size=20)\n",
    "print(dice_roll_20)"
   ]
  },
  {
   "cell_type": "code",
   "execution_count": 139,
   "id": "c7b6247c-9201-41bd-b2ef-3f9d90c5ea0b",
   "metadata": {},
   "outputs": [
    {
     "name": "stdout",
     "output_type": "stream",
     "text": [
      "1\n"
     ]
    }
   ],
   "source": [
    "print(dice_roll_20.min())"
   ]
  },
  {
   "cell_type": "code",
   "execution_count": 140,
   "id": "fdfa68d2-9509-4f33-b1b4-5c70b15f1798",
   "metadata": {},
   "outputs": [
    {
     "name": "stdout",
     "output_type": "stream",
     "text": [
      "6\n"
     ]
    }
   ],
   "source": [
    "print(dice_roll_20.max())"
   ]
  },
  {
   "cell_type": "code",
   "execution_count": 148,
   "id": "b4ccc8b4-ba44-454f-bcbb-47fdc11f53e9",
   "metadata": {},
   "outputs": [
    {
     "name": "stdout",
     "output_type": "stream",
     "text": [
      "[2.15541757 3.4468007  9.49025446 1.09122594 9.3525102  2.42951723\n",
      " 1.65995673 2.52528912 1.97675976 2.090296  ]\n"
     ]
    }
   ],
   "source": [
    "rand_floats_2 = np.random.uniform(0, 10, size=10)\n",
    "print(rand_floats_2)"
   ]
  },
  {
   "cell_type": "code",
   "execution_count": 144,
   "id": "fc1d651f-fc6e-4711-a2aa-7ef0e319c520",
   "metadata": {},
   "outputs": [
    {
     "name": "stdout",
     "output_type": "stream",
     "text": [
      "[ 1.04373092e+00 -1.18862129e+00 -1.03953951e+00  3.55628326e-01\n",
      " -5.79951770e-01 -9.69963003e-02  1.41504077e+00 -7.71164577e-01\n",
      "  6.72430643e-01  1.34982280e+00  6.39186064e-01 -6.53343066e-01\n",
      " -1.06306791e+00  2.83662860e-01 -1.63005387e-01 -1.19593551e+00\n",
      " -1.38634624e+00  1.27079664e+00 -1.21985544e-01  3.00027850e+00\n",
      "  9.12733015e-01  9.20423382e-01 -6.15730653e-01  1.09543868e+00\n",
      " -1.63270940e-01 -8.01988146e-01  7.41322791e-01  8.65603089e-01\n",
      " -1.30160629e+00  1.08278493e+00  4.84054697e-01  5.24772363e-01\n",
      "  9.80691473e-01 -3.51715061e-01  4.85334774e-02  1.86449964e-02\n",
      " -1.13569547e+00 -7.60947322e-01  3.02503920e-01 -1.94462946e+00\n",
      " -7.30354342e-01 -8.47678990e-01 -6.91837389e-01 -1.15413158e+00\n",
      " -1.33387912e+00  6.98967575e-01 -1.09142921e+00  1.72411243e-01\n",
      "  9.36715153e-01 -1.75521891e-01 -2.37491183e+00 -7.79437992e-01\n",
      "  1.37699758e+00 -1.43914082e+00 -1.50222467e-01 -1.64363925e+00\n",
      " -1.90324773e+00  1.36215086e+00  7.09240363e-01 -1.40515932e+00\n",
      "  1.73502414e-01  2.34744102e-01 -8.38614231e-01  3.85350568e-01\n",
      " -1.20200495e+00  2.46034147e-01  7.26313648e-01 -8.01751223e-01\n",
      " -1.26972749e+00 -2.65377265e-01  9.87997002e-02 -1.45139949e+00\n",
      " -5.81579418e-01  1.48530696e-01 -1.81496928e-01  2.11317523e+00\n",
      "  1.49825430e-02  7.51108467e-01  9.64760437e-01 -1.25785517e-01\n",
      " -2.53570800e-01  1.17985255e-01  3.90865283e-01 -1.79840876e+00\n",
      "  7.30336801e-01 -9.64015841e-01  6.24052686e-01  8.79870189e-01\n",
      " -2.48603200e+00 -1.58877989e-01 -5.58335680e-01 -2.75536332e-02\n",
      " -4.63293276e-01 -6.76586557e-01  2.04493314e+00  8.98641590e-02\n",
      "  1.56564097e+00 -1.27552979e+00 -9.35001759e-01 -1.56748685e-01\n",
      " -1.27838437e+00  9.57489381e-02 -1.57377995e+00  5.26080372e-01\n",
      "  1.34393087e+00  2.60314358e-01  2.85138851e-01  5.37301412e-01\n",
      " -1.49211875e+00  3.28668555e-01 -1.36366916e-01 -5.78719907e-01\n",
      " -1.30055190e-01  7.22330469e-01  6.95204399e-01  6.60609821e-01\n",
      "  1.37907734e+00  2.75801220e-02  4.71348154e-01  5.81842530e-01\n",
      "  3.10691708e-01 -5.71574554e-01 -7.23418286e-01  1.08954369e+00\n",
      "  9.18679515e-01  2.67542151e-01  1.32243912e-01 -3.55380769e-01\n",
      "  7.32241463e-01  3.48344841e-01  6.78786546e-02  1.11761296e+00\n",
      " -7.63825676e-01  2.88972569e-02 -7.04669489e-01  1.29671421e+00\n",
      " -5.16674613e-01  1.12220728e+00 -4.39728455e-01  1.10055641e-01\n",
      "  1.52728333e-01 -5.40166664e-01  1.57480956e-01 -8.45299858e-01\n",
      "  7.48939202e-01 -3.62230823e-01  4.22256332e-01 -1.83031871e-01\n",
      " -5.55359421e-01 -9.25594133e-01  1.54245079e+00 -1.27931540e+00\n",
      "  8.82292008e-01  4.61694057e-01  8.06335816e-01 -4.16387885e-01\n",
      "  8.06644737e-01 -5.51610796e-01 -1.98876190e-01 -1.43450670e+00\n",
      " -7.94466709e-02 -6.39851245e-01  6.42899228e-01  1.39753691e+00\n",
      " -5.87120885e-02  3.86518404e-01  3.00431648e-01  1.97853816e-01\n",
      " -4.23906000e-01  5.92636324e-01  2.80591144e-02  1.13648085e+00\n",
      " -1.64824598e+00 -7.13294144e-01 -1.50774771e+00 -2.38115164e-01\n",
      "  4.98612690e-01 -6.91142359e-01 -2.34994327e+00 -1.02522750e+00\n",
      " -8.36880122e-01  1.24903941e-02  4.69094663e-01 -1.30909211e+00\n",
      "  1.35717917e+00 -1.76931648e+00 -1.77856583e+00 -1.03517162e-01\n",
      "  2.32212573e-01 -2.83189546e-01  1.05553019e+00 -7.68223175e-02\n",
      " -5.12784845e-01  1.13566764e+00 -7.41516387e-01  5.36915533e-01\n",
      "  2.21716008e+00  5.69435927e-01 -6.98839122e-01  8.31260000e-01\n",
      " -1.72095020e-01 -1.41070558e-01  7.25571661e-02  8.71248952e-01\n",
      "  5.37005672e-02  1.31045875e-01 -7.81276527e-01 -7.00858334e-02\n",
      "  1.02432599e+00  7.90962662e-01  1.19419864e+00 -4.81592707e-01\n",
      " -6.94514663e-01  1.60004269e+00  2.19383109e-01 -8.66808306e-01\n",
      " -1.28144928e+00 -7.99023386e-01  4.17195384e-01  1.12340249e+00\n",
      " -1.87902109e+00  1.32586279e+00  1.64932999e+00  1.30331778e+00\n",
      "  1.72972452e-01  1.21367946e+00 -1.54273951e+00  1.25993604e+00\n",
      " -2.35693308e+00  1.22547159e-01  2.10185743e+00  1.45919693e+00\n",
      " -1.18962718e+00  1.64919012e+00 -8.75633278e-01 -1.76024280e+00\n",
      " -1.43802177e+00 -2.07642411e-01 -7.29224514e-01 -3.16637835e-02\n",
      "  1.30326265e+00 -6.11040068e-03 -7.45516039e-01 -1.68753528e+00\n",
      "  1.22915899e+00 -2.76656091e-01 -9.97805826e-03  4.37228082e-01\n",
      "  6.74609835e-01  2.06410091e-01  1.52092918e+00  1.85705948e+00\n",
      "  9.20010784e-01 -6.09856102e-01 -4.25639215e-01  1.15416848e+00\n",
      "  1.01585349e+00 -3.81624228e-02  1.93814761e+00 -5.76114303e-01\n",
      "  4.16596577e-01 -1.00461190e+00 -3.12185714e-01 -5.57951788e-01\n",
      " -6.27680270e-01  3.84027852e-01 -8.03559047e-02 -2.01250687e-01\n",
      " -5.12014178e-02 -8.25790610e-01  7.26492958e-01  7.46956428e-01\n",
      "  2.64735302e+00 -1.02819430e+00  4.46221145e-01 -4.13353618e-02\n",
      " -5.29927647e-01  1.62664455e-01  1.50283902e+00  5.27984571e-01\n",
      "  4.51402264e-01  3.93167364e-01  1.32770535e-01 -2.09059613e+00\n",
      "  4.66275510e-01  1.58512176e+00  3.03910800e-01  6.72714310e-01\n",
      "  4.90263991e-01 -1.33947766e+00 -1.79673837e-01 -1.31170373e+00\n",
      "  2.19486761e-01  2.72898092e-01 -7.21169763e-02 -1.92707401e-02\n",
      "  6.74506901e-01 -1.71187233e+00  3.36508596e+00  6.52353169e-01\n",
      " -1.02612920e+00 -8.52282041e-02 -5.59391015e-01 -1.03650890e+00\n",
      " -3.26630466e-01  3.02453048e-01 -4.84446785e-01  1.94297555e-01\n",
      " -1.30344525e-01  2.04070565e+00 -7.33645314e-01 -2.91110725e-02\n",
      " -9.59095736e-01 -9.58623414e-01 -1.87474776e+00  4.35431013e-01\n",
      "  8.11497668e-01  1.09131269e+00 -9.25718258e-01  1.69535565e+00\n",
      "  1.08435219e+00 -2.24605313e-01 -3.45275094e-01  3.03705024e-01\n",
      " -3.48313912e-01  1.16094840e+00  2.75554061e+00  1.96765646e-01\n",
      "  5.67831140e-01  1.65353026e+00  1.84651560e+00 -1.68114037e+00\n",
      "  4.27037299e-01 -9.49581988e-01  1.32571985e+00 -9.55706703e-01\n",
      " -7.69481889e-03 -1.61982858e+00 -5.42819662e-01  2.79508471e-01\n",
      "  4.02597321e-01  1.36055468e+00  1.11921677e+00  3.99471760e-01\n",
      " -1.14368557e+00 -6.51790843e-01 -3.77830531e-01 -1.07569684e+00\n",
      " -4.17130227e-01  7.20141655e-01 -2.76240945e-01 -1.59702572e+00\n",
      "  1.10870076e-01  8.23408768e-01 -2.92504901e-02 -1.45533108e+00\n",
      " -3.76111299e-01  2.96418698e+00  5.69516542e-01 -1.71251654e-01\n",
      "  1.37056202e-01  1.17227391e-01 -1.62923809e-01  5.70918622e-01\n",
      " -1.25867192e-01  9.44622871e-01 -1.67861261e+00 -1.52885687e-01\n",
      " -1.63218775e+00 -5.76964863e-01 -1.18539997e+00 -2.29657725e-01\n",
      "  1.11824177e+00 -5.23355559e-01  1.51630328e-01 -2.03087531e+00\n",
      "  3.32518771e-01 -3.42957536e-01  2.19447333e+00  2.55804227e-01\n",
      "  1.02482826e+00  5.26338459e-01  8.28041157e-01  7.02350838e-01\n",
      " -2.01896467e+00  2.63102476e-01  2.69934980e-03 -4.98330556e-02\n",
      " -1.29650974e+00 -1.39786747e-01  2.21947356e-01 -1.31711184e-01\n",
      " -8.83817091e-01  4.16979021e-01  3.45484101e-02  2.94958468e-01\n",
      " -2.28895383e+00  1.11135073e+00  2.22953509e-01 -1.21290860e+00\n",
      "  3.22095967e-01  7.91571603e-01  9.52831116e-01 -4.02871948e-02\n",
      "  4.67290812e-01  1.53706634e+00  9.69893058e-02  6.62973687e-01\n",
      "  7.19157606e-01 -1.44187508e+00  1.24734106e-01 -1.84358433e+00\n",
      " -7.55686448e-01  2.46613945e-01 -2.47726908e-01  1.08600031e-01\n",
      "  6.50809966e-01 -9.22497615e-02 -7.00182890e-01 -9.56896024e-01\n",
      " -6.85548939e-01 -1.15083461e+00  2.00560011e+00 -4.79590883e-01\n",
      "  1.37459401e+00  6.92824580e-01 -3.92657267e-01 -1.10099101e-01\n",
      "  1.19536588e+00  9.15776859e-01 -1.07328483e+00 -9.79130052e-01\n",
      " -2.36223511e+00  4.48528886e-01  1.12409983e+00 -1.23978417e-01\n",
      " -1.21264131e+00  1.35378672e+00  5.94321901e-01  2.31184058e-01\n",
      " -8.99238334e-01  5.16859048e-01  3.13805125e-01  1.34510954e+00\n",
      "  1.04781515e+00  2.12262275e+00 -1.69138303e-02  3.46645857e-01\n",
      " -9.43638888e-02 -1.71627648e+00 -6.76943229e-01 -1.08675564e-01\n",
      " -9.15482156e-01 -3.72084952e-01 -2.28823008e+00  1.03989675e-01\n",
      " -7.29241960e-01  3.79209054e-02 -1.91727376e+00 -9.83633796e-01\n",
      " -9.25796972e-02 -5.43021399e-01  1.56747973e-01 -2.84534556e-04\n",
      "  7.09175269e-01  8.51621877e-01  1.42800668e+00  8.56611657e-01\n",
      " -9.89602197e-01 -4.34183345e-01 -9.94089867e-01 -5.24719457e-01\n",
      "  1.59674154e+00 -1.36921241e+00 -1.31820622e+00 -1.26957347e+00\n",
      "  1.21078513e+00  5.26461962e-01  3.20495861e-02  1.25643758e-01\n",
      "  1.85601614e+00  4.73433809e-01 -4.68988074e-01  1.99649297e+00\n",
      " -1.47449158e+00  7.92312933e-01  1.47217363e+00 -2.44827451e+00\n",
      "  1.38354553e+00 -1.21473243e+00  2.32712350e-01  1.04666464e+00\n",
      " -9.72862005e-01  1.45708372e+00  1.80759368e+00  5.80243419e-01\n",
      " -2.55890439e-01 -4.88471341e-01  1.97921461e-01  3.02898376e-01\n",
      " -1.89844866e+00  1.72120349e-01  4.13128299e-01 -1.24554161e-01\n",
      "  2.13461645e-02 -1.12392789e-01 -1.05960053e+00 -2.46509975e+00\n",
      " -2.20722590e-01  9.56635340e-01  2.64500347e+00  5.47412956e-02\n",
      "  2.64158880e-01  9.16251016e-01  1.27792524e-01 -7.00310551e-01\n",
      " -7.34372645e-01 -1.20903805e+00  9.35711317e-01  3.83624534e-01\n",
      " -1.76864611e+00 -1.27771515e+00 -2.22725780e-01 -9.55048480e-01\n",
      " -1.13521413e+00  1.16650937e-01 -4.23002479e-01  1.75023980e+00\n",
      "  1.62624269e+00 -3.25369307e-01  7.86567202e-01 -1.19317392e+00\n",
      "  2.11658818e-03  7.07459120e-01 -4.45240691e-01 -8.48700567e-02\n",
      " -1.62263283e-01 -3.89296851e-02 -1.39862651e+00  1.51789771e+00\n",
      "  5.34038548e-01 -1.38397401e+00  4.94006774e-01  6.72537988e-02\n",
      " -6.18771378e-01 -2.22823660e+00  2.51017288e-01 -6.25742353e-01\n",
      "  3.53549419e-01 -8.69944229e-01  3.43291769e-01  8.40636750e-01\n",
      "  6.01213609e-01 -1.87376361e+00  1.40354021e-01 -3.02566225e-01\n",
      " -4.79061986e-01  6.19218154e-01  1.41751752e+00  2.66568248e-01\n",
      " -2.21203108e+00 -7.45727471e-01 -1.04045896e+00  1.45785621e+00\n",
      " -1.91923436e+00  6.06592576e-01 -1.94821281e+00  1.43544699e+00\n",
      "  4.90862081e-01  2.26443613e+00 -7.32485048e-01  9.49721624e-02\n",
      "  8.04273947e-01 -1.42860769e+00  1.19423038e+00  1.45715303e+00\n",
      " -9.26485262e-01  4.46917350e-01  1.99272045e+00 -1.64316647e-01\n",
      "  1.37740778e+00 -1.18019639e+00  3.17719722e-01  8.48030053e-01\n",
      "  5.41116614e-01 -7.11209033e-01 -1.52820192e-01 -1.80156192e+00\n",
      "  2.10714328e-01  6.57615290e-01 -1.23211362e+00  2.98696766e-01\n",
      "  9.72223990e-02  1.04377757e+00  1.31187931e+00 -5.15810919e-01\n",
      " -1.76200135e-01 -2.99679601e-02  1.78219163e+00  1.01543662e+00\n",
      "  9.28990957e-01 -3.06898093e-01  1.97408925e+00  1.07377657e+00\n",
      " -3.32967932e-01 -1.27155729e+00 -1.58747150e+00  5.82052627e-01\n",
      "  9.35886176e-01  3.56689169e-01 -3.25203564e-01  8.79524025e-01\n",
      " -1.70720749e+00  2.01695352e+00  9.03482059e-01 -4.86748377e-02\n",
      "  7.26494227e-01 -7.39032716e-01  1.11034349e+00 -5.26647980e-01\n",
      "  3.81390982e-01  3.33811866e-01 -1.10991921e+00 -5.46290453e-01\n",
      " -1.22828499e+00  1.12448338e+00 -4.03253413e-01 -2.43280052e+00\n",
      " -6.84715372e-01 -4.49191207e-01 -3.64593740e-01  7.52517389e-01\n",
      " -1.30775108e+00  5.16684863e-01  2.94910581e-01 -6.23022993e-01\n",
      " -1.78647078e-01 -3.35791696e-01 -1.14310533e+00 -1.22578432e+00\n",
      " -1.12921746e+00 -2.86346905e-01 -7.44458260e-01 -5.57399585e-01\n",
      " -1.32428937e+00 -5.70240972e-01 -3.24596525e-01 -2.19162049e+00\n",
      "  4.26773167e-01  2.13113448e+00  1.38894922e+00  2.99566923e+00\n",
      "  3.70033816e-02 -1.23451509e+00 -7.68268546e-02 -2.04655051e-01\n",
      " -5.63672391e-01  9.63215917e-01 -1.10670281e+00  3.63183055e-01\n",
      "  5.83096809e-01  1.83939629e+00  1.96925527e-01  9.23964605e-01\n",
      " -4.74675437e-02  1.64356537e+00 -4.53529701e-01  7.63102416e-02\n",
      " -7.39770526e-01  1.02921194e+00  7.80535975e-01  1.93266502e+00\n",
      "  9.80530866e-01  3.74175586e-01  1.09205791e+00 -1.32268471e+00\n",
      "  5.59231390e-02 -9.32954115e-02 -9.61297171e-01  3.40820522e-01\n",
      " -1.55794447e-01  1.09442953e-02  4.97922687e-01 -1.63247045e+00\n",
      " -4.19784566e-01  3.99221460e-01 -1.72622857e-01 -2.89696901e-01\n",
      " -1.12220053e+00  4.48134434e-01 -4.60574122e-01 -7.99569804e-01\n",
      "  1.49603363e+00 -2.67040606e+00 -4.63557624e-01  5.61608374e-01\n",
      " -1.24687728e+00 -2.64233751e+00 -1.28103675e+00  1.82505969e+00\n",
      " -3.46173103e-01 -3.54023826e-01 -2.67188052e-01 -2.91197885e-01\n",
      " -2.23699694e-01 -8.20788455e-01 -4.89763965e-01 -7.01353143e-01\n",
      "  3.87403833e-01  4.72163027e-01  1.46806444e-01  1.98891819e+00\n",
      "  2.21210016e+00  6.05694868e-01  8.59126506e-01 -2.95061787e-01\n",
      " -5.13485557e-01  1.14731182e+00 -5.84504898e-01 -3.95063368e-03\n",
      " -1.04785505e-01  7.32937792e-01 -2.13221912e-01 -2.54738487e+00\n",
      "  3.45287045e-01  9.56401984e-02 -2.73621291e-01 -2.06706639e+00\n",
      "  1.57978622e-01 -5.83679441e-01  5.42910064e-01  1.60697188e-02\n",
      "  5.32416013e-01 -2.07906964e+00 -8.14704219e-01 -9.83833845e-01\n",
      " -1.48821833e+00  2.19926741e-01  5.98335485e-01  6.08390398e-01\n",
      " -2.28090619e-02 -7.29545476e-01 -6.25356089e-01  7.22737472e-01\n",
      "  1.30048867e+00 -5.67777635e-01  8.06131450e-02 -1.49985384e+00\n",
      "  4.21085147e-01  4.32093520e-01  1.66853723e-01  5.57990125e-01\n",
      " -5.07842576e-01 -6.60948820e-01 -4.63647187e-01  2.04947189e-01\n",
      " -4.89250979e-01  4.36659216e-02  6.84242899e-01  2.04269540e+00\n",
      " -7.35785383e-01  4.18385686e-01  2.22888559e-01 -4.73482209e-01\n",
      "  1.53668322e+00 -2.06223255e-01  5.03886145e-01 -7.48995418e-01\n",
      " -4.39286334e-01 -2.10833257e-01  7.13852864e-01  4.22747040e-01\n",
      " -4.72828872e-01 -2.97386480e-01 -8.90064345e-01 -1.66406116e+00\n",
      "  2.94132083e-03 -2.05021424e-01 -1.45880051e+00 -1.79719580e+00\n",
      " -2.94625283e-01 -1.10937658e-01  3.04658196e-01 -7.68528068e-01\n",
      "  1.36170734e+00  1.05125781e+00  3.62449693e-01  1.10259196e+00\n",
      "  1.15832386e+00  1.19628330e-02  1.98794641e-01 -6.95638288e-01\n",
      " -1.64781369e+00  3.29629206e-01  1.61030140e+00 -2.97671688e-01\n",
      " -1.62039733e+00  9.82739789e-01 -5.06086289e-02 -7.28628129e-01\n",
      "  2.21701252e-01 -1.53694418e+00 -3.17046940e-01  5.69650498e-01\n",
      " -5.33913392e-01 -3.83737074e-01 -4.31173558e-01  8.46494287e-01\n",
      " -5.34726487e-01  1.63397645e-01  3.32518285e-01 -1.17606589e+00\n",
      "  5.07563619e-01 -1.38132077e+00 -3.24077157e-01 -6.39204930e-01\n",
      " -7.38855874e-02  1.36644830e+00 -1.46201124e-01  1.97328962e-01\n",
      " -4.22659857e-02  9.65628923e-01 -1.34504843e+00 -3.98432519e-01\n",
      " -2.26675350e+00 -3.02487400e-01 -9.30564128e-02 -1.06417920e+00\n",
      " -3.03011435e+00  1.07638721e-01 -5.14759991e-02  8.82697603e-01\n",
      " -1.06948921e+00 -1.61784467e-01  3.43514117e-01 -1.79402471e+00\n",
      "  5.15235271e-03 -7.99762164e-01 -7.01975701e-01 -1.67881543e+00\n",
      "  2.38442812e-01  1.68893120e+00 -6.01109519e-01  5.84962766e-01\n",
      " -8.53993323e-01 -7.03689857e-01 -2.99298411e-01 -2.81307848e-01\n",
      " -2.62284489e-01  2.81986923e-01 -2.70155126e-02  6.57224692e-01\n",
      "  3.44089947e-01  1.19075917e+00  8.42141732e-04 -6.05912682e-01\n",
      "  1.45680134e-01 -1.48960053e+00 -1.74570330e+00 -1.44258322e+00\n",
      " -6.23623056e-01  2.11561594e+00 -1.15248687e+00  1.47631237e+00\n",
      "  7.20094600e-01 -1.00205586e+00  1.57501852e+00 -8.63739423e-01\n",
      "  1.54732129e+00  1.13545713e+00 -6.54078356e-02  1.14008659e-01\n",
      " -8.07230766e-01  5.62995438e-01  1.83909446e-01 -2.24698459e+00\n",
      " -1.20396653e+00  6.43087146e-01  1.17718846e+00 -1.44780141e+00\n",
      "  1.77859906e-01 -1.88711979e+00 -1.49285763e+00 -9.23477653e-01\n",
      " -1.21753664e-01 -1.02650843e+00  1.38641735e+00 -2.06846745e+00\n",
      " -3.32490393e-01  1.72592902e+00 -2.20538872e+00 -6.53336468e-01\n",
      "  1.75653540e-01  1.28617069e-01  5.22632597e-02  8.32145181e-01\n",
      " -5.67728609e-01  1.34027675e+00  6.71200103e-01  3.90691237e-01\n",
      "  7.44988159e-03  1.20482082e+00  1.56054464e+00  1.33410800e-01\n",
      "  2.32149313e-01 -1.57218399e+00  3.08809113e-01 -1.45060699e-01\n",
      " -1.02862555e+00  4.38605913e-01 -5.88047640e-01  6.84650693e-01\n",
      "  1.16477843e+00  5.77938079e-01  5.28999607e-01 -6.76847700e-01\n",
      " -1.28166979e-01  1.00545529e+00  4.03119434e-01  2.54420845e-01\n",
      " -4.01989316e-01 -1.27089793e+00 -1.31556266e+00 -3.88646503e-01\n",
      " -7.39519066e-01  5.71857913e-01  9.39703614e-01 -2.48212589e-01\n",
      " -8.45590734e-01  1.62966544e-01 -4.83313145e-01 -1.07845878e+00\n",
      " -2.10056462e-01 -1.75350318e-01  1.30788999e+00 -1.84768554e-01\n",
      "  3.37184379e-01  1.00283403e+00  1.69071272e+00  5.95572859e-01\n",
      " -1.64264293e+00 -8.28399365e-01  1.77232168e+00 -1.01399968e+00\n",
      " -6.79112860e-01 -1.27459312e-01 -2.13840345e+00 -8.68398106e-01\n",
      " -9.82470006e-01  2.36661545e-01  5.71697176e-01  1.00949449e+00\n",
      "  1.14275073e+00  6.12611995e-01 -7.52144325e-01 -1.30378545e+00\n",
      " -1.66744152e+00 -1.10152123e+00  9.55319134e-01  1.65151524e+00\n",
      " -3.16263880e-01 -7.04214778e-01 -1.66789493e-01 -4.45180892e-01\n",
      " -8.14484620e-01 -1.44682409e-02  1.41930482e-01  7.10370922e-01\n",
      "  8.57832994e-01 -2.17734741e+00 -3.37002161e-01 -2.76158063e-01\n",
      "  1.72876378e+00 -1.64360665e+00  1.92340098e-01  1.75247345e-01\n",
      " -8.61837705e-01  1.69491616e-01 -3.38124290e-01  2.60819457e-02\n",
      "  1.44956041e+00  6.19145687e-01  1.63808323e-01 -2.53959316e-01\n",
      " -2.94665275e-01  1.96062384e+00 -8.07521410e-02  3.98140087e-01\n",
      "  7.81348395e-01  2.03022615e+00 -5.97628813e-01  7.19368070e-01\n",
      "  8.60648379e-01 -1.27667905e+00  5.02693313e-01 -3.94851459e-01\n",
      " -5.95918468e-02  6.81526871e-01  2.02399523e+00 -1.01489452e+00]\n"
     ]
    }
   ],
   "source": [
    "rand_dist_2 = np.random.randn(1000)\n",
    "print(rand_dist_2)"
   ]
  },
  {
   "cell_type": "code",
   "execution_count": 147,
   "id": "f8cd0e51-f9cf-41b0-8206-f72ccccca844",
   "metadata": {},
   "outputs": [
    {
     "name": "stdout",
     "output_type": "stream",
     "text": [
      "[ 1.04373092 -1.18862129 -1.03953951  0.35562833 -0.57995177 -0.0969963\n",
      "  1.41504077 -0.77116458  0.67243064  1.3498228 ]\n"
     ]
    }
   ],
   "source": [
    "print(rand_dist_2[:10]) # prints out first 10\n"
   ]
  },
  {
   "cell_type": "code",
   "execution_count": 152,
   "id": "d49c7643-a8b4-4893-8b99-444219812eee",
   "metadata": {},
   "outputs": [
    {
     "name": "stdout",
     "output_type": "stream",
     "text": [
      "sum:  55\n",
      "mean:  5.5\n",
      "median:  5.5\n",
      "SD:  2.8722813232690143\n",
      "min:  1\n",
      "max:  10\n"
     ]
    }
   ],
   "source": [
    "statsarray = np.array([1,2,3,4,5,6,7,8,9,10])\n",
    "# sum \n",
    "print(\"sum: \", np.sum(statsarray))\n",
    "# mean \n",
    "print(\"mean: \", np.mean(statsarray))\n",
    "# median \n",
    "print(\"median: \", np.median(statsarray))\n",
    "# standard deviation \n",
    "print(\"SD: \", np.std(statsarray))\n",
    "# min \n",
    "print(\"min: \", np.min(statsarray))\n",
    "# max\n",
    "print(\"max: \", np.max(statsarray))"
   ]
  },
  {
   "cell_type": "code",
   "execution_count": 156,
   "id": "d32a291b-2e8c-4d97-a1db-3668eafccf32",
   "metadata": {},
   "outputs": [
    {
     "name": "stdout",
     "output_type": "stream",
     "text": [
      "62\n",
      "3.1\n",
      "3.0\n",
      "1.445683229480096\n"
     ]
    }
   ],
   "source": [
    "print(np.sum(dice_roll_20))\n",
    "print(np.mean(dice_roll_20))\n",
    "print(np.median(dice_roll_20))\n",
    "print(np.std(dice_roll_20))"
   ]
  },
  {
   "cell_type": "code",
   "execution_count": 160,
   "id": "31b54874-1486-4ce3-bbe2-17aafab02a5d",
   "metadata": {},
   "outputs": [
    {
     "name": "stdout",
     "output_type": "stream",
     "text": [
      "[14 81 17 72 49 93 92 88 78 94 47 55 60 45 86 82 57 44 64 63 44 49 20 57\n",
      " 89 70 13 19 84 49 56 32 90 73 61 51 19 53 15 12 68 61 71 60 56 62 72 80\n",
      " 95 57]\n",
      "58.38\n",
      "60.0\n",
      "23.788139902060436\n"
     ]
    }
   ],
   "source": [
    "random_int = np.random.randint(10,101, size=50)\n",
    "print(random_int)\n",
    "print(np.mean(random_int))\n",
    "print(np.median(random_int))\n",
    "print(np.std(random_int))"
   ]
  },
  {
   "cell_type": "code",
   "execution_count": 163,
   "id": "5f173e8d-2533-4d9a-8f73-3f2ed670ba5e",
   "metadata": {},
   "outputs": [
    {
     "name": "stdout",
     "output_type": "stream",
     "text": [
      "[1 2 3]\n",
      "[4 5 6]\n"
     ]
    }
   ],
   "source": [
    "stack_1 = np.array([1,2,3])\n",
    "stack_2 = np.array([4,5,6])\n",
    "\n",
    "print(stack_1)\n",
    "print(stack_2)"
   ]
  },
  {
   "cell_type": "code",
   "execution_count": 167,
   "id": "2dcfd20a-dd28-4d11-8f6e-81e93593caa5",
   "metadata": {},
   "outputs": [
    {
     "name": "stdout",
     "output_type": "stream",
     "text": [
      "[[1 2 3]\n",
      " [4 5 6]]\n"
     ]
    }
   ],
   "source": [
    "vstacked = np.vstack([stack_1,stack_2])\n",
    "print(vstacked)"
   ]
  },
  {
   "cell_type": "code",
   "execution_count": 168,
   "id": "8f0b6b17-5512-448a-9799-89dc44fbadea",
   "metadata": {},
   "outputs": [
    {
     "name": "stdout",
     "output_type": "stream",
     "text": [
      "[1 2 3 4 5 6]\n"
     ]
    }
   ],
   "source": [
    "hstacked = np.hstack([stack_1,stack_2])\n",
    "print(hstacked)"
   ]
  },
  {
   "cell_type": "code",
   "execution_count": 171,
   "id": "6aa5ea4c-6a5e-4133-b613-b64e85fe466d",
   "metadata": {},
   "outputs": [
    {
     "name": "stdout",
     "output_type": "stream",
     "text": [
      "[22  0 15 19  7  8 34 16  3 34 34 20 26 16 41 19]\n",
      "[[22  0 15 19]\n",
      " [ 7  8 34 16]\n",
      " [ 3 34 34 20]\n",
      " [26 16 41 19]]\n"
     ]
    }
   ],
   "source": [
    "array_1d = np.random.randint(0,50,size=16)\n",
    "array_reshape = array_1d.reshape(4,4)\n",
    "print(array_1d)\n",
    "print(array_reshape)"
   ]
  },
  {
   "cell_type": "code",
   "execution_count": 172,
   "id": "85ce2ac9-2116-4f06-9127-c62660f75888",
   "metadata": {},
   "outputs": [
    {
     "name": "stdout",
     "output_type": "stream",
     "text": [
      "[[1 2]\n",
      " [3 4]]\n",
      "[1 2 3 4]\n"
     ]
    }
   ],
   "source": [
    "sarray_1 = np.array([1,2])\n",
    "sarray_2 = np.array([3,4])\n",
    "vstackedarr = np.vstack([sarray_1,sarray_2])\n",
    "hstackedarr = np.hstack([sarray_1,sarray_2])\n",
    "print(vstackedarr)\n",
    "print(hstackedarr)"
   ]
  },
  {
   "cell_type": "code",
   "execution_count": 176,
   "id": "05b989a3-6b2d-43d8-b357-48ce88f8fe63",
   "metadata": {},
   "outputs": [
    {
     "name": "stdout",
     "output_type": "stream",
     "text": [
      "[[6 3 1 1 3]\n",
      " [3 4 6 4 1]]\n"
     ]
    }
   ],
   "source": [
    "dice_3 = np.random.randint(1,7, size=5)\n",
    "dice_4 = np.random.randint(1,7, size=5)\n",
    "vstackeddice = np.vstack([dice_3,dice_4])\n",
    "print(vstackeddice)"
   ]
  },
  {
   "cell_type": "code",
   "execution_count": 175,
   "id": "749aa6a8-7202-4cee-9082-d7dd52ef83bc",
   "metadata": {},
   "outputs": [
    {
     "name": "stdout",
     "output_type": "stream",
     "text": [
      "[[5 1 2 5 1]\n",
      " [3 4 1 2 2]]\n"
     ]
    }
   ],
   "source": [
    "print(np.vstack([dice_3,dice_4]))\n",
    "# dice_reshape = hstackeddice.reshape(2,5)"
   ]
  },
  {
   "cell_type": "code",
   "execution_count": null,
   "id": "e14933ab-499f-4980-93b8-8a5a372b6c19",
   "metadata": {},
   "outputs": [],
   "source": []
  }
 ],
 "metadata": {
  "kernelspec": {
   "display_name": "Python 3 (ipykernel)",
   "language": "python",
   "name": "python3"
  },
  "language_info": {
   "codemirror_mode": {
    "name": "ipython",
    "version": 3
   },
   "file_extension": ".py",
   "mimetype": "text/x-python",
   "name": "python",
   "nbconvert_exporter": "python",
   "pygments_lexer": "ipython3",
   "version": "3.13.7"
  }
 },
 "nbformat": 4,
 "nbformat_minor": 5
}
