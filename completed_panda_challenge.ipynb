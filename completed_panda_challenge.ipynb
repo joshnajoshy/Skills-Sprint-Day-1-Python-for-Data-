{
 "cells": [
  {
   "cell_type": "markdown",
   "id": "7056e15e",
   "metadata": {},
   "source": [
    "# 🛒 Pandas Sales Data Analysis — Full Solutions"
   ]
  },
  {
   "cell_type": "markdown",
   "id": "3428ad94",
   "metadata": {},
   "source": [
    "## 1️⃣ Setup & Load Data"
   ]
  },
  {
   "cell_type": "code",
   "execution_count": null,
   "id": "4712bc0e",
   "metadata": {},
   "outputs": [],
   "source": [
    "\n",
    "import pandas as pd\n",
    "\n",
    "# Load dataset (replace with actual path)\n",
    "df = pd.read_csv('sales_with_nans.csv')\n",
    "\n",
    "# Inspect first few rows\n",
    "df.head()\n",
    "\n",
    "#quick summary\n",
    "df.info()\n",
    "\n",
    "# # sum of missing values in each column\n",
    "df.isnull().sum()\n"
   ]
  },
  {
   "cell_type": "markdown",
   "id": "3538ed5b",
   "metadata": {},
   "source": [
    "## 2️⃣ Basic Statistics"
   ]
  },
  {
   "cell_type": "code",
   "execution_count": null,
   "id": "67534046",
   "metadata": {},
   "outputs": [],
   "source": [
    "\n",
    "total_sales_before = df['Sales_Before'].sum()\n",
    "total_sales_after = df['Sales_After'].sum()\n",
    "avg_sales_before = df['Sales_Before'].mean()\n",
    "avg_sales_after = df['Sales_After'].mean()\n",
    "\n",
    "avg_sat_before = df['Customer_Satisfaction_Before'].mean()\n",
    "avg_sat_after = df['Customer_Satisfaction_After'].mean()\n",
    "\n",
    "total_sales_before, total_sales_after, avg_sales_before, avg_sales_after, avg_sat_before, avg_sat_after\n",
    "\n"
   ]
  },
  {
   "cell_type": "markdown",
   "id": "394b632d",
   "metadata": {},
   "source": [
    "**Exercise Solution:** Range of sales"
   ]
  },
  {
   "cell_type": "code",
   "execution_count": null,
   "id": "409571c8",
   "metadata": {},
   "outputs": [],
   "source": [
    "avg_sales_change = avg_sales_after - avg_sales_before\n",
    "avg_satisfaction_change = avg_sat_after - avg_sat_before\n",
    "avg_sales_change, avg_satisfaction_change\n"
   ]
  },
  {
   "cell_type": "markdown",
   "id": "be87a72e",
   "metadata": {},
   "source": [
    "## 3️⃣ Handling Missing Values"
   ]
  },
  {
   "cell_type": "code",
   "execution_count": 3,
   "id": "3b26fe98",
   "metadata": {},
   "outputs": [],
   "source": [
    "# need to make a copy of the original dataframe to avoid changing original data\n",
    "df_clean = df.copy()"
   ]
  },
  {
   "cell_type": "code",
   "execution_count": null,
   "id": "cf0ffb24",
   "metadata": {},
   "outputs": [],
   "source": [
    "#Grab rows for high value customers\n",
    "high_value_customers = df[df['Customer_Segment'] == 'High Value']\n",
    "print(\"high value\", high_value_customers)\n",
    "\n",
    "# get all customers with sales above the average\n",
    "avg_sales = df['Sales_Before'].mean(skipna=True)\n",
    "above_avg = df[df['Sales_Before'] > avg_sales]\n",
    "print(\"above avg\",above_avg)\n",
    "\n",
    "#filter by multiple conditions\n",
    "filtered = df[\n",
    "    (df['Customer_Satisfaction_Before'] >= 70) &\n",
    "    (df['Sales_Before'] > 200)\n",
    "]\n",
    "print(\"filtered\", filtered)"
   ]
  },
  {
   "cell_type": "code",
   "execution_count": null,
   "id": "c57bc8fc",
   "metadata": {},
   "outputs": [],
   "source": [
    "\n",
    "# Drop rows with missing key values\n",
    "df_clean = df.dropna(subset=['Sales_Before', 'Sales_After', 'Customer_Segment'])\n",
    "\n",
    "# Fill missing satisfaction values with the mean\n",
    "df_clean['Customer_Satisfaction_Before'] = df_clean['Customer_Satisfaction_Before'].fillna(df_clean['Customer_Satisfaction_Before'].mean())\n",
    "df_clean['Customer_Satisfaction_After'] = df_clean['Customer_Satisfaction_After'].fillna(df_clean['Customer_Satisfaction_After'].mean())\n",
    "\n",
    "df_clean.isnull().sum()\n",
    "\n"
   ]
  },
  {
   "cell_type": "markdown",
   "id": "396e3a54",
   "metadata": {},
   "source": [
    "**Exercise Solution:** Try filling missing Purchase_Made with \"Unknown\"."
   ]
  },
  {
   "cell_type": "code",
   "execution_count": null,
   "id": "4598161e",
   "metadata": {},
   "outputs": [],
   "source": [
    "df_clean['Purchase_Made'] = df_clean['Purchase_Made'].fillna(\"Unknown\")\n",
    "df_clean['Purchase_Made'].value_counts()\n"
   ]
  },
  {
   "cell_type": "markdown",
   "id": "f6f9e9c8",
   "metadata": {},
   "source": [
    "## 4️⃣ Aggregation with GroupBy"
   ]
  },
  {
   "cell_type": "code",
   "execution_count": null,
   "id": "a7ce503e",
   "metadata": {},
   "outputs": [],
   "source": [
    "# Average sales before/after by segment\n",
    "df_clean.groupby('Customer_Segment')[['Sales_Before','Sales_After']].mean()\n"
   ]
  },
  {
   "cell_type": "code",
   "execution_count": null,
   "id": "fe7e3e0b",
   "metadata": {},
   "outputs": [],
   "source": [
    "# Satisfaction improvement by Group (Control vs Treatment)\n",
    "df_clean['Satisfaction_Change'] = df_clean['Customer_Satisfaction_After'] - df_clean['Customer_Satisfaction_Before']\n",
    "df_clean.groupby('Group')['Satisfaction_Change'].mean()\n"
   ]
  },
  {
   "cell_type": "markdown",
   "id": "3e8a85f2",
   "metadata": {},
   "source": [
    "**Exercise Solution:** Find which Customer_Segment had the biggest sales increase."
   ]
  },
  {
   "cell_type": "code",
   "execution_count": null,
   "id": "9d7e9eb6",
   "metadata": {},
   "outputs": [],
   "source": [
    "\n",
    "df_clean['Sales_Change'] = df_clean['Sales_After'] - df_clean['Sales_Before']\n",
    "df_clean.groupby('Customer_Segment')['Sales_Change'].mean().idxmax()\n"
   ]
  },
  {
   "cell_type": "markdown",
   "id": "76c14114",
   "metadata": {},
   "source": [
    "## 6️⃣ Simple Pivot Table"
   ]
  },
  {
   "cell_type": "code",
   "execution_count": null,
   "id": "0e33c47b",
   "metadata": {},
   "outputs": [],
   "source": [
    "\n",
    "pivot = df_clean.pivot_table(\n",
    "    index='Customer_Segment',\n",
    "    columns='Group',\n",
    "    values='Sales_Change',\n",
    "    aggfunc='mean'\n",
    ")\n",
    "pivot\n",
    "\n"
   ]
  },
  {
   "cell_type": "markdown",
   "id": "7f2facc9",
   "metadata": {},
   "source": [
    "**Exercise Solution:** Create a pivot showing satisfaction change by Purchase_Made."
   ]
  },
  {
   "cell_type": "code",
   "execution_count": null,
   "id": "765abfd2",
   "metadata": {},
   "outputs": [],
   "source": [
    "pivot_sat = df_clean.pivot_table(\n",
    "    index='Customer_Segment',\n",
    "    columns='Purchase_Made',\n",
    "    values='Satisfaction_Change',\n",
    "    aggfunc='mean'\n",
    ")\n",
    "pivot_sat\n",
    "\n"
   ]
  },
  {
   "cell_type": "markdown",
   "id": "e6bd7a9e",
   "metadata": {},
   "source": [
    "## 7️⃣ Wrap-Up"
   ]
  },
  {
   "cell_type": "markdown",
   "id": "e32f31c3",
   "metadata": {},
   "source": [
    "\n",
    "- Regions with the most revenue can be found via groupby sum.  \n",
    "- Sales vs satisfaction can be correlated with `.corr()`.  \n",
    "- Time-based analysis shows trends over months.  \n"
   ]
  },
  {
   "cell_type": "code",
   "execution_count": null,
   "id": "6e3ae2c8",
   "metadata": {},
   "outputs": [],
   "source": [
    "# Which customer segments generated the largest increase in sales?\n",
    "df_clean['Sales_Change'] = df_clean['Sales_After'] - df_clean['Sales_Before']\n",
    "sales_change_by_segment = df_clean.groupby('Customer_Segment')['Sales_Change'].mean()\n",
    "largest_increase_segment = sales_change_by_segment.idxmax()\n",
    "sales_change_by_segment, largest_increase_segment\n"
   ]
  },
  {
   "cell_type": "code",
   "execution_count": null,
   "id": "5a8c5a2b",
   "metadata": {},
   "outputs": [],
   "source": [
    "# Did the Treatment group improve satisfaction more than the Control group?\n",
    "df_clean['Satisfaction_Change'] = df_clean['Customer_Satisfaction_After'] - df_clean['Customer_Satisfaction_Before']\n",
    "satisfaction_change_by_group = df_clean.groupby('Group')['Satisfaction_Change'].mean()\n",
    "satisfaction_change_by_group"
   ]
  },
  {
   "cell_type": "code",
   "execution_count": null,
   "id": "40778533",
   "metadata": {},
   "outputs": [],
   "source": [
    "# Correlation between sales and satisfaction (after campaign)\n",
    "correlation = df_clean[['Sales_After', 'Customer_Satisfaction_After']].corr()\n",
    "correlation"
   ]
  }
 ],
 "metadata": {
  "kernelspec": {
   "display_name": "Python 3 (ipykernel)",
   "language": "python",
   "name": "python3"
  },
  "language_info": {
   "codemirror_mode": {
    "name": "ipython",
    "version": 3
   },
   "file_extension": ".py",
   "mimetype": "text/x-python",
   "name": "python",
   "nbconvert_exporter": "python",
   "pygments_lexer": "ipython3",
   "version": "3.13.5"
  }
 },
 "nbformat": 4,
 "nbformat_minor": 5
}
